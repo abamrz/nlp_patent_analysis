{
 "cells": [
  {
   "cell_type": "markdown",
   "metadata": {
    "colab_type": "text",
    "id": "P_tO9tRPrSZI"
   },
   "source": [
    "## Deep Learning Lab\n",
    "### Patent Classification Analysis\n",
    "### Tools used:\n",
    "        - Language: Python\n",
    "        - Libraries: Keras, Sklearn, Pandas, Matplotlib\n",
    "        - Open-source: Stanford NLP (Glove word embeddings), Google BERT\n",
    "        - Dataset: Wipo-Alpha Patents dataset\n",
    "    \n",
    "Notebook consists of 4 parts:\n",
    "1. Dataset parsing, cleaning and preprocessing;\n",
    "2. Using GloVe word embeddings, building neural network and training the model;\n",
    "3. Applying Domain specific word embeddings and training the model;\n",
    "4. Applying pre-trained language model to classification task by fine-tuning "
   ]
  },
  {
   "cell_type": "markdown",
   "metadata": {
    "colab_type": "text",
    "id": "pKprG9YjrSZS"
   },
   "source": [
    "# Part 1. Dataset parsing, cleaning and preprocessing\n",
    "Before we start to build and train a neural network, we should first explore dataset. \n",
    "I decided to parse dataset by representing it as a tree. For this reason, I import ElementTree library.\n",
    "First, I explore train dataset and try to extract files with an extension XML. Than I add relative paths of these files to list I declared before.\n",
    "\n",
    "I decided to classify patents from  Wipo Alpha dataset on Sections level by Text attributes. How the section can be identified? Each patent document contains <ipcs> tag with an attribute 'mc' that contains following text: A01B00100 (example), in which the first letter (in this case A) identifies belonging to the section. Overall, there are following 8 sections in dataset: A, B, C, D, E, F, G, H\n",
    "    \n",
    "\n",
    "\n",
    "\n"
   ]
  },
  {
   "cell_type": "code",
   "execution_count": 0,
   "metadata": {
    "colab": {},
    "colab_type": "code",
    "id": "ttboditwrSZa"
   },
   "outputs": [],
   "source": [
    "import xml.etree.ElementTree as ET\n",
    "import os\n",
    "import os.path\n",
    "import re\n",
    "import random"
   ]
  },
  {
   "cell_type": "code",
   "execution_count": 0,
   "metadata": {
    "colab": {},
    "colab_type": "code",
    "id": "rVlEOsccrSZy",
    "outputId": "9be2befa-50ab-4ef2-a9f3-54b1f7ca7a85",
    "pycharm": {
     "is_executing": false
    }
   },
   "outputs": [
    {
     "name": "stdout",
     "output_type": "stream",
     "text": [
      "Start working with dataset!\n"
     ]
    }
   ],
   "source": [
    "walk_dir = '/Deep Learning/dataset/train'\n",
    "if not os.path.isdir(walk_dir):\n",
    "    print('Error! Database has not been found! Try to find dir again')\n",
    "    exit()\n",
    "else: \n",
    "    print('Start working with dataset!')"
   ]
  },
  {
   "cell_type": "code",
   "execution_count": 0,
   "metadata": {
    "colab": {},
    "colab_type": "code",
    "id": "pMasnCsHrSaH",
    "pycharm": {
     "is_executing": false
    }
   },
   "outputs": [],
   "source": [
    "train_dataset_path = []\n",
    "for child_nodes, parent_nodes, files in os.walk(walk_dir):\n",
    "    for inner_file in files:\n",
    "        path_file = child_nodes + os.sep + inner_file\n",
    "        if path_file.endswith(\".xml\"):\n",
    "            train_dataset_path.append(path_file)\n",
    "random.shuffle(train_dataset_path)"
   ]
  },
  {
   "cell_type": "markdown",
   "metadata": {
    "colab_type": "text",
    "id": "_wGF-HptrSaW"
   },
   "source": [
    "- I parse only the first 10000 files of the train dataset. \n",
    "- As I decided to classify patents on Sections level, I get to nodes (in case of XML documents these are tags) with an attribute 'mc' and gather the first letter (index[0] from the list). Thus, I need text of the patents, I loop over the children of <ipcs> tag containing text of the node. \n",
    "    \n",
    "- After all nodes have been looped, I append section identifier to first sublist, in the second sublist I keep the texts of patents. \n",
    "- If data has been somehow corrupted, I don't loop over them. Instead of it, I just print them.\n",
    "- By using regular expression I filter the text by providing some instructions on replacing, splitting discrete symbols.   "
   ]
  },
  {
   "cell_type": "code",
   "execution_count": null,
   "metadata": {
    "colab": {},
    "colab_type": "code",
    "id": "QPPpcjPcrSab",
    "outputId": "499aa8a6-1f33-4b07-b346-a9ddc71858dd",
    "pycharm": {
     "is_executing": false
    },
    "scrolled": true
   },
   "outputs": [],
   "source": [
    "train_dataset_path = train_dataset_path[:10000]\n",
    "data_list = [[],[]]\n",
    "for entry_in in train_dataset_path:\n",
    "    text = ' '\n",
    "    try:\n",
    "        tree = ET.parse(entry_in)\n",
    "        base_root = tree.getroot()\n",
    "        for node in base_root:\n",
    "            if node.get('mc') is not None:\n",
    "                section_item = node.get('mc')\n",
    "                new_item = section_item[0]\n",
    "            for sub_node in node:\n",
    "                if(sub_node.tag == 'txt'):\n",
    "                    text += sub_node.text + ' '\n",
    "        \n",
    "        data_list[0].append(new_item)\n",
    "        data_list[1].append(text)\n",
    "                       \n",
    "    except:\n",
    "        print('This data could be corrupted\\n', entry_in)\n",
    "    \n",
    "    text = text.replace('\\n', ' ') \n",
    "    regex = re.compile('[^a-zA-Z]')\n",
    "    text = regex.sub(' ', text)\n",
    "    text = re.sub('<[^>]+>', '', text)\n",
    "    text = re.sub(r'\\b\\w{1,2}\\b', '', text)\n",
    "    text = \" \".join(text.split()[:5000]).lower()"
   ]
  },
  {
   "cell_type": "markdown",
   "metadata": {
    "colab_type": "text",
    "id": "FDjQ-0-hrSaq"
   },
   "source": [
    "## Pandas\n",
    "I have imported pandas to obtain some information about dataset by using pandas object - DataFrame. From the histogram below word frequencies in each section can be depicted. At this point, we can reveal which section has most dense vocabulary (number of words) and which one has less than other one. However, all these steps could be skipped, but we wouldn't be able to retain dataset details."
   ]
  },
  {
   "cell_type": "code",
   "execution_count": 0,
   "metadata": {
    "colab": {},
    "colab_type": "code",
    "id": "QhvEODsbrSau"
   },
   "outputs": [],
   "source": [
    "# ! pip install pandas\n",
    "import pandas as pd\n",
    "\n",
    "df_test = pd.DataFrame(data_list).T"
   ]
  },
  {
   "cell_type": "code",
   "execution_count": 0,
   "metadata": {
    "colab": {},
    "colab_type": "code",
    "id": "XGrWFtVCrSa5",
    "outputId": "d57c067a-3acc-4904-93f4-90d1e67318ed",
    "scrolled": true
   },
   "outputs": [
    {
     "data": {
      "text/plain": [
       "<matplotlib.axes._subplots.AxesSubplot at 0x7ffa9a39be48>"
      ]
     },
     "execution_count": 31,
     "metadata": {
      "tags": []
     },
     "output_type": "execute_result"
    },
    {
     "data": {
      "image/png": "[encoded data removed]",
      "text/plain": [
       "<Figure size 432x288 with 1 Axes>"
      ]
     },
     "metadata": {
      "needs_background": "light",
      "tags": []
     },
     "output_type": "display_data"
    }
   ],
   "source": [
    "df_test[0].hist(bins=8)"
   ]
  },
  {
   "cell_type": "markdown",
   "metadata": {
    "colab_type": "text",
    "id": "E7tloW_erSbG"
   },
   "source": [
    "Here following steps are done: \n",
    "- From the obtained data we want to retain all the rows, which is done by using DataFrame.head();\n",
    "- We rename the columns headings to Section and Text respectively;\n",
    "- The first column on the left side without title shows the number of document from the list (data)."
   ]
  },
  {
   "cell_type": "code",
   "execution_count": 0,
   "metadata": {
    "colab": {},
    "colab_type": "code",
    "id": "ipGXmFF3rSbL",
    "outputId": "54bdf4b2-25f3-4377-ddfa-4653657484d3"
   },
   "outputs": [
    {
     "data": {
      "text/html": [
       "<div>\n",
       "<style scoped>\n",
       "    .dataframe tbody tr th:only-of-type {\n",
       "        vertical-align: middle;\n",
       "    }\n",
       "\n",
       "    .dataframe tbody tr th {\n",
       "        vertical-align: top;\n",
       "    }\n",
       "\n",
       "    .dataframe thead th {\n",
       "        text-align: right;\n",
       "    }\n",
       "</style>\n",
       "<table border=\"1\" class=\"dataframe\">\n",
       "  <thead>\n",
       "    <tr style=\"text-align: right;\">\n",
       "      <th></th>\n",
       "      <th>Section</th>\n",
       "      <th>Text</th>\n",
       "    </tr>\n",
       "  </thead>\n",
       "  <tbody>\n",
       "    <tr>\n",
       "      <th>0</th>\n",
       "      <td>C</td>\n",
       "      <td>SUBSTITUTED IMIDAZOLE AS DUAL HISTAMINE H1 A...</td>\n",
       "    </tr>\n",
       "    <tr>\n",
       "      <th>1</th>\n",
       "      <td>C</td>\n",
       "      <td>HETEROCYCLIC GLYCYL BETA-ALANINE DERIVATIVES ...</td>\n",
       "    </tr>\n",
       "    <tr>\n",
       "      <th>2</th>\n",
       "      <td>A</td>\n",
       "      <td>METHOD OF DETECTING LENSES\\nBackground of th...</td>\n",
       "    </tr>\n",
       "    <tr>\n",
       "      <th>3</th>\n",
       "      <td>H</td>\n",
       "      <td>TITLE : Balun and Associated Method for Conne...</td>\n",
       "    </tr>\n",
       "    <tr>\n",
       "      <th>4</th>\n",
       "      <td>B</td>\n",
       "      <td>Title of invention\\nMethod for regulating of ...</td>\n",
       "    </tr>\n",
       "    <tr>\n",
       "      <th>...</th>\n",
       "      <td>...</td>\n",
       "      <td>...</td>\n",
       "    </tr>\n",
       "    <tr>\n",
       "      <th>9991</th>\n",
       "      <td>B</td>\n",
       "      <td>RIDER BAR SCREEN PANEL\\nThis invention relat...</td>\n",
       "    </tr>\n",
       "    <tr>\n",
       "      <th>9992</th>\n",
       "      <td>B</td>\n",
       "      <td>MICROGRAPHIC DEVICE\\nThis invention relates ...</td>\n",
       "    </tr>\n",
       "    <tr>\n",
       "      <th>9993</th>\n",
       "      <td>B</td>\n",
       "      <td>PULP FILTER OR WASHER AND SEALING FOR USE THE...</td>\n",
       "    </tr>\n",
       "    <tr>\n",
       "      <th>9994</th>\n",
       "      <td>B</td>\n",
       "      <td>METHOD OF LIQUID PHASE BONDING\\nThis inventi...</td>\n",
       "    </tr>\n",
       "    <tr>\n",
       "      <th>9995</th>\n",
       "      <td>A</td>\n",
       "      <td>TRANSGENIC MICE CONTAINING TARGETED GENE DISR...</td>\n",
       "    </tr>\n",
       "  </tbody>\n",
       "</table>\n",
       "<p>9996 rows × 2 columns</p>\n",
       "</div>"
      ],
      "text/plain": [
       "     Section                                               Text\n",
       "0          C    SUBSTITUTED IMIDAZOLE AS DUAL HISTAMINE H1 A...\n",
       "1          C   HETEROCYCLIC GLYCYL BETA-ALANINE DERIVATIVES ...\n",
       "2          A    METHOD OF DETECTING LENSES\\nBackground of th...\n",
       "3          H   TITLE : Balun and Associated Method for Conne...\n",
       "4          B   Title of invention\\nMethod for regulating of ...\n",
       "...      ...                                                ...\n",
       "9991       B    RIDER BAR SCREEN PANEL\\nThis invention relat...\n",
       "9992       B    MICROGRAPHIC DEVICE\\nThis invention relates ...\n",
       "9993       B   PULP FILTER OR WASHER AND SEALING FOR USE THE...\n",
       "9994       B    METHOD OF LIQUID PHASE BONDING\\nThis inventi...\n",
       "9995       A   TRANSGENIC MICE CONTAINING TARGETED GENE DISR...\n",
       "\n",
       "[9996 rows x 2 columns]"
      ]
     },
     "execution_count": 32,
     "metadata": {
      "tags": []
     },
     "output_type": "execute_result"
    }
   ],
   "source": [
    "df_test.head()\n",
    "df_test.rename(columns={0:'Section', 1:'Text'})"
   ]
  },
  {
   "cell_type": "markdown",
   "metadata": {
    "colab_type": "text",
    "id": "TiOhA0RBrSbX"
   },
   "source": [
    "At the one point, it could happen that some elements of the list could be filled with trash or could have had zero values (null). To avoid this and to get control over this element, I use the code below."
   ]
  },
  {
   "cell_type": "code",
   "execution_count": 0,
   "metadata": {
    "colab": {},
    "colab_type": "code",
    "id": "rSUJ8W9GrSba",
    "outputId": "0b719be4-8ef0-4ef5-8672-f157c8bc3454"
   },
   "outputs": [
    {
     "data": {
      "text/html": [
       "<div>\n",
       "<style scoped>\n",
       "    .dataframe tbody tr th:only-of-type {\n",
       "        vertical-align: middle;\n",
       "    }\n",
       "\n",
       "    .dataframe tbody tr th {\n",
       "        vertical-align: top;\n",
       "    }\n",
       "\n",
       "    .dataframe thead th {\n",
       "        text-align: right;\n",
       "    }\n",
       "</style>\n",
       "<table border=\"1\" class=\"dataframe\">\n",
       "  <thead>\n",
       "    <tr style=\"text-align: right;\">\n",
       "      <th></th>\n",
       "      <th>0</th>\n",
       "      <th>1</th>\n",
       "    </tr>\n",
       "  </thead>\n",
       "  <tbody>\n",
       "  </tbody>\n",
       "</table>\n",
       "</div>"
      ],
      "text/plain": [
       "Empty DataFrame\n",
       "Columns: [0, 1]\n",
       "Index: []"
      ]
     },
     "execution_count": 33,
     "metadata": {
      "tags": []
     },
     "output_type": "execute_result"
    }
   ],
   "source": [
    "df_null = df_test.isnull()\n",
    "df_null[df_null[1] == True]"
   ]
  },
  {
   "cell_type": "code",
   "execution_count": 0,
   "metadata": {
    "colab": {},
    "colab_type": "code",
    "id": "uxYKa1jErSbm",
    "outputId": "3f7bd597-cc81-4265-b627-b8c7cac13d56"
   },
   "outputs": [
    {
     "name": "stdout",
     "output_type": "stream",
     "text": [
      "<class 'pandas.core.frame.DataFrame'>\n",
      "RangeIndex: 9996 entries, 0 to 9995\n",
      "Data columns (total 2 columns):\n",
      "0    9996 non-null object\n",
      "1    9996 non-null object\n",
      "dtypes: object(2)\n",
      "memory usage: 156.3+ KB\n"
     ]
    }
   ],
   "source": [
    "df_test.dropna(inplace=True)\n",
    "df_test.reset_index(drop=True, inplace=True)\n",
    "df_test.info()"
   ]
  },
  {
   "cell_type": "code",
   "execution_count": null,
   "metadata": {
    "colab": {},
    "colab_type": "code",
    "id": "pDb1qOGKrSby",
    "outputId": "d0bd549a-9362-474c-aa8b-a4fb5d441ec6"
   },
   "outputs": [],
   "source": [
    "# the list overflows with empty value, I decided to figure out this \n",
    "print(data_list[1][9000])"
   ]
  },
  {
   "cell_type": "markdown",
   "metadata": {
    "colab_type": "text",
    "id": "bKidrHjirScK"
   },
   "source": [
    "Here we just assign list of sections and list of text into two variables data_x, data_y respectively."
   ]
  },
  {
   "cell_type": "code",
   "execution_count": 0,
   "metadata": {
    "colab": {},
    "colab_type": "code",
    "id": "SbnJvbaCrScO"
   },
   "outputs": [],
   "source": [
    "data_x = df_test[0]\n",
    "data_y = df_test[1]"
   ]
  },
  {
   "cell_type": "markdown",
   "metadata": {
    "colab_type": "text",
    "id": "n39W8TTprScX"
   },
   "source": [
    "# Keras\n",
    "Keras is open-source neural nets library which also provides build-in tools and methods for preprocessing of the text. This includes preprocessing by importing from preprocessing.text and preprocessing.sequence following class and method: \n",
    "- Tokenizer\n",
    "- Pad_sequences\n",
    "\n",
    "## Preprocessing\n",
    "Before we start with preprocessing, we define the maximum length, maximum number of words shoud be processed, determine how many words we consider for training phase and how many for validation phase of the learning.\n",
    "We split dataset with 10000 elements into 9000 elements (train samples) and 1000 elements (validation samples)\n",
    "### Tokenizer \n",
    "This class allows to vectorize a text corpus, by turning each text into either a sequence of integers (each integer being the index of a token in a dictionary) or into a vector where the coefficient for each token could be binary, based on word count.\n",
    "### Pad_sequences\n",
    "This function transforms a list of num_samples sequences (lists of integers) into a 2D Numpy array of shape (num_samples)"
   ]
  },
  {
   "cell_type": "code",
   "execution_count": 0,
   "metadata": {
    "colab": {},
    "colab_type": "code",
    "id": "SzOM090TrSca",
    "outputId": "6ce66450-7ecb-43d0-e825-760980412c07",
    "pycharm": {
     "is_executing": false
    }
   },
   "outputs": [
    {
     "name": "stdout",
     "output_type": "stream",
     "text": [
      "Step 1 --- Tokenization started..\n",
      "Tokenization done!\n",
      "Step 2 --- Converting text to sequence of tokens\n",
      "Number of unique items: 506054\n"
     ]
    }
   ],
   "source": [
    "import keras\n",
    "from keras.preprocessing.text import Tokenizer\n",
    "from keras.preprocessing.sequence import pad_sequences\n",
    "\n",
    "maxlen = 1000\n",
    "max_words = 10000\n",
    "training_samples = 9000\n",
    "validation_samples = 1000\n",
    "   \n",
    "print('Step 1 --- Tokenization started..')\n",
    "tokenizer = Tokenizer(num_words=max_words, lower=True)\n",
    "tokenizer.fit_on_texts(data_y)\n",
    "print('Tokenization done!')\n",
    "print('Step 2 --- Converting text to sequence of tokens')\n",
    "sequences = tokenizer.texts_to_sequences(data_y)\n",
    "word_index = tokenizer.word_index\n",
    "print('Number of unique items:', len(word_index))"
   ]
  },
  {
   "cell_type": "code",
   "execution_count": 0,
   "metadata": {
    "colab": {},
    "colab_type": "code",
    "id": "YCzakKD4rSck",
    "outputId": "126a4b02-c90d-42ef-c6f3-e8da1f1efe7b"
   },
   "outputs": [
    {
     "name": "stdout",
     "output_type": "stream",
     "text": [
      "Shape of data tensor:  (9996, 1000)\n",
      "Shape of label tensor:  (9996,)\n"
     ]
    }
   ],
   "source": [
    "import numpy as np\n",
    "data = pad_sequences(sequences, maxlen=maxlen)\n",
    "labels = np.asarray(data_x)\n",
    "print('Shape of data tensor: ', data.shape)\n",
    "print('Shape of label tensor: ', labels.shape)\n",
    "x_train = data[:training_samples]\n",
    "y_train = labels[:training_samples]\n",
    "x_val = data[training_samples: training_samples + validation_samples]\n",
    "y_val = labels[training_samples: training_samples + validation_samples]"
   ]
  },
  {
   "cell_type": "markdown",
   "metadata": {
    "colab_type": "text",
    "id": "s8SaGeyGrScu"
   },
   "source": [
    "# Part 2. Using GloVe word embeddings, building neural net and training the model\n",
    "### Parsing GloVe word-embeddings file\n",
    "At this step we parse file containing 100 dimensional embedding vectors for 400.000 words to build an index that maps words to their vector representation."
   ]
  },
  {
   "cell_type": "code",
   "execution_count": 0,
   "metadata": {
    "colab": {},
    "colab_type": "code",
    "id": "IJmyQ60FrScx",
    "outputId": "1fdd1463-de32-4196-9ca5-e58449dbfab9"
   },
   "outputs": [
    {
     "name": "stdout",
     "output_type": "stream",
     "text": [
      "Found word vectors:  400000\n"
     ]
    }
   ],
   "source": [
    "embeddings_index = {}\n",
    "with open(\"/Deep Learning/dataset/glove.6B/glove.6B.100d.txt\") as file:\n",
    "    for line in file:\n",
    "        values = line.split()\n",
    "        word = values[0]\n",
    "        coefs = np.asarray(values[1:], dtype='float32')\n",
    "        embeddings_index[word] = coefs\n",
    "print('Found word vectors: ', len(embeddings_index))"
   ]
  },
  {
   "cell_type": "markdown",
   "metadata": {
    "colab_type": "text",
    "id": "O5qDc7g_rSc6"
   },
   "source": [
    "### Embedding matrix\n",
    "After the GloVe file has been parsed we build an embedding matrix that we load into Embedding layer afterwards. We shape a matrix with size (max_words, embedding_dim). Each parameter we set up manually. \n",
    "In obtained matrix, each entry i contains (embedding_dim) dimensional vectro for the word of index i built during tokenization several steps before."
   ]
  },
  {
   "cell_type": "code",
   "execution_count": 0,
   "metadata": {
    "colab": {},
    "colab_type": "code",
    "id": "LkEz7iL3rSc8",
    "outputId": "6c03bee8-88d5-4fa4-86f4-bb6fca42d2e8"
   },
   "outputs": [
    {
     "name": "stdout",
     "output_type": "stream",
     "text": [
      "Preparing embedding_matrix..\n",
      "Embedding done!\n"
     ]
    }
   ],
   "source": [
    "embedding_dim = 100\n",
    "print('Preparing embedding_matrix..')\n",
    "embedding_matrix = np.zeros((max_words, embedding_dim))\n",
    "for word, i in word_index.items():\n",
    "    if i < max_words:\n",
    "        embedding_vector = embeddings_index.get(word)\n",
    "        if embedding_vector is not None:\n",
    "            embedding_matrix[i] = embedding_vector\n",
    "print('Embedding done!')"
   ]
  },
  {
   "cell_type": "markdown",
   "metadata": {
    "colab_type": "text",
    "id": "PnJjFrUXrSdE"
   },
   "source": [
    "### Defining, building a model and learning it\n",
    "\n",
    "#### Dense neural network\n",
    "We start to define a dense layered deep network, which will be trained on several epochs (parameter is to be tuned). As activation function we use ReLu (Rectified Linear Unit) and Softmax (for output layer). Output has 8 neurons, as we have 8 sections, into which patent should be classfied.\n",
    "#### Scikit-learn.preprocessing\n",
    "From sklearn library we import LabelEncoder to represent our parameters y_train and y_val as integers, because Keras doesn't understand text data (only numbers). I have done this by encoding the paramenter and using to_categorical method.\n",
    "#### Model hyperparameters\n",
    "As optimizer we use rmsprop, as loss function categorical crossentrophy is used (case - multiclass classification) and accuracy has been chosen as metrics."
   ]
  },
  {
   "cell_type": "code",
   "execution_count": 0,
   "metadata": {
    "colab": {},
    "colab_type": "code",
    "id": "9d7vmtDMrSdH",
    "outputId": "70f16e4e-9ca1-4948-a549-4cc8569408b8"
   },
   "outputs": [
    {
     "name": "stdout",
     "output_type": "stream",
     "text": [
      "Model: \"sequential_2\"\n",
      "_________________________________________________________________\n",
      "Layer (type)                 Output Shape              Param #   \n",
      "=================================================================\n",
      "embedding_2 (Embedding)      (None, 1000, 100)         1000000   \n",
      "_________________________________________________________________\n",
      "flatten_2 (Flatten)          (None, 100000)            0         \n",
      "_________________________________________________________________\n",
      "dense_2 (Dense)              (None, 32)                3200032   \n",
      "_________________________________________________________________\n",
      "prediction (Dense)           (None, 8)                 264       \n",
      "=================================================================\n",
      "Total params: 4,200,296\n",
      "Trainable params: 4,200,296\n",
      "Non-trainable params: 0\n",
      "_________________________________________________________________\n",
      "Train on 9000 samples, validate on 996 samples\n",
      "Epoch 1/11\n",
      "9000/9000 [==============================] - 4s 478us/step - loss: 3.7590 - acc: 0.2122 - val_loss: 2.0565 - val_acc: 0.1988\n",
      "Epoch 2/11\n",
      "9000/9000 [==============================] - 4s 447us/step - loss: 2.1134 - acc: 0.2170 - val_loss: 2.0331 - val_acc: 0.1948\n",
      "Epoch 3/11\n",
      "9000/9000 [==============================] - 4s 475us/step - loss: 2.0218 - acc: 0.2162 - val_loss: 1.9963 - val_acc: 0.1998\n",
      "Epoch 4/11\n",
      "9000/9000 [==============================] - 5s 509us/step - loss: 2.0798 - acc: 0.2661 - val_loss: 1.9408 - val_acc: 0.3564\n",
      "Epoch 5/11\n",
      "9000/9000 [==============================] - 4s 466us/step - loss: 1.9476 - acc: 0.2931 - val_loss: 1.9783 - val_acc: 0.3052\n",
      "Epoch 6/11\n",
      "9000/9000 [==============================] - 4s 459us/step - loss: 1.9211 - acc: 0.3036 - val_loss: 1.9348 - val_acc: 0.3072\n",
      "Epoch 7/11\n",
      "9000/9000 [==============================] - 5s 502us/step - loss: 1.8848 - acc: 0.3250 - val_loss: 1.9356 - val_acc: 0.2791\n",
      "Epoch 8/11\n",
      "9000/9000 [==============================] - 4s 479us/step - loss: 1.7965 - acc: 0.3522 - val_loss: 1.8731 - val_acc: 0.3474\n",
      "Epoch 9/11\n",
      "9000/9000 [==============================] - 5s 540us/step - loss: 1.7390 - acc: 0.3714 - val_loss: 2.1236 - val_acc: 0.3916\n",
      "Epoch 10/11\n",
      "9000/9000 [==============================] - 5s 523us/step - loss: 1.6824 - acc: 0.3819 - val_loss: 2.1389 - val_acc: 0.3855\n",
      "Epoch 11/11\n",
      "9000/9000 [==============================] - 5s 527us/step - loss: 1.6404 - acc: 0.3950 - val_loss: 2.0328 - val_acc: 0.3936\n"
     ]
    }
   ],
   "source": [
    "from keras.models import Sequential\n",
    "from keras.layers import Embedding, Flatten, Dense\n",
    "from keras.utils import np_utils, to_categorical\n",
    "from sklearn.preprocessing import LabelEncoder\n",
    "\n",
    "epoch = 11\n",
    "\n",
    "model = Sequential()\n",
    "model.add(Embedding(max_words, embedding_dim, input_length=maxlen))\n",
    "model.add(Flatten())\n",
    "model.add(Dense(32, activation='relu'))\n",
    "model.add(Dense(8, activation='softmax', name='prediction'))\n",
    "\n",
    "model.summary()\n",
    "model.layers[0].set_weights([embedding_matrix])\n",
    "model.layers[0].trainable = False\n",
    "\n",
    "encoder = LabelEncoder()\n",
    "encoder.fit(y_train)\n",
    "encoded_y = encoder.transform(y_train)\n",
    "cat_y = to_categorical(encoded_y)\n",
    "\n",
    "val_encoder = LabelEncoder()\n",
    "val_encoder.fit(y_val)\n",
    "val_encoded = val_encoder.transform(y_val)\n",
    "cat_val_y = to_categorical(val_encoded)\n",
    "\n",
    "model.compile(optimizer='rmsprop', loss='categorical_crossentropy', metrics=['acc'])\n",
    "history = model.fit(x_train, cat_y, epochs=epoch, batch_size=128, validation_data=(x_val, cat_val_y))\n",
    "model.save_weights('pre_trained_glove_model.h5')"
   ]
  },
  {
   "cell_type": "markdown",
   "metadata": {
    "colab_type": "text",
    "id": "s1AAfrRnrSdP"
   },
   "source": [
    "### Plotting the results\n",
    "Here we can plot the training results obtained on the previous step. To do this, we import matplotlib library which provides plotting of data."
   ]
  },
  {
   "cell_type": "code",
   "execution_count": 0,
   "metadata": {
    "colab": {},
    "colab_type": "code",
    "id": "0TZguEjOrSdR",
    "outputId": "6301f46a-f11b-4cfc-d3c5-591224cf3705"
   },
   "outputs": [
    {
     "data": {
      "image/png": "[encoded data removed]",
      "text/plain": [
       "<Figure size 432x288 with 1 Axes>"
      ]
     },
     "metadata": {
      "needs_background": "light",
      "tags": []
     },
     "output_type": "display_data"
    },
    {
     "data": {
      "image/png": "[encoded data removed]",
      "text/plain": [
       "<Figure size 432x288 with 1 Axes>"
      ]
     },
     "metadata": {
      "needs_background": "light",
      "tags": []
     },
     "output_type": "display_data"
    }
   ],
   "source": [
    "%matplotlib inline\n",
    "import matplotlib.pyplot as plt\n",
    "\n",
    "acc = history.history['acc']\n",
    "val_acc = history.history['val_acc']\n",
    "loss = history.history['loss']\n",
    "val_loss = history.history['val_loss']\n",
    "epochs = range(1, len(acc) + 1)\n",
    "plt.plot(epochs, acc, 'bo', label='Training acc')\n",
    "plt.plot(epochs, val_acc, 'b', label='Validation acc')\n",
    "plt.title('Training and validation accuracy')\n",
    "plt.legend()\n",
    "plt.figure()\n",
    "plt.plot(epochs, loss, 'bo', label='Training loss')\n",
    "plt.plot(epochs, val_loss, 'b', label='Validation loss')\n",
    "plt.title('Training and validation loss')\n",
    "plt.legend()\n",
    "plt.show()"
   ]
  },
  {
   "cell_type": "markdown",
   "metadata": {
    "colab_type": "text",
    "id": "-xVLJwvLrSdZ"
   },
   "source": [
    "### Evaluating model from the training data on the test data\n",
    "Learnt model with the help of training data should be evaluated on the test data. To be the hypothesis evaluated, we parse test dataset of Wipo Alpha. Implementation of the test dataset parser is the same as implementation of parser of train data."
   ]
  },
  {
   "cell_type": "code",
   "execution_count": 0,
   "metadata": {
    "colab": {},
    "colab_type": "code",
    "id": "Tj9r40zQrSdd",
    "outputId": "9cc49839-93d5-4783-edbf-90628a9aec97"
   },
   "outputs": [
    {
     "name": "stdout",
     "output_type": "stream",
     "text": [
      "Start working with dataset!\n"
     ]
    }
   ],
   "source": [
    "test_dir = '/Deep Learning/dataset/test'\n",
    "if not os.path.isdir(test_dir):\n",
    "    print('Error! Database has not been found! Try to find dir again')\n",
    "    exit()\n",
    "else: \n",
    "    print('Start working with dataset!')\n"
   ]
  },
  {
   "cell_type": "code",
   "execution_count": 0,
   "metadata": {
    "colab": {},
    "colab_type": "code",
    "id": "TugdKvI1rSdj"
   },
   "outputs": [],
   "source": [
    "test_dataset_path = []\n",
    "for child_nodes, parent_nodes, files in os.walk(test_dir):\n",
    "    for inner_file in files:\n",
    "        path_file = child_nodes + os.sep + inner_file\n",
    "        if path_file.endswith(\".xml\"):\n",
    "            test_dataset_path.append(path_file)\n",
    "random.shuffle(test_dataset_path)"
   ]
  },
  {
   "cell_type": "code",
   "execution_count": 0,
   "metadata": {
    "colab": {},
    "colab_type": "code",
    "id": "ApOZ8lsDrSdr",
    "outputId": "e6ab0598-8901-4887-8ac4-617e7a9ab525"
   },
   "outputs": [
    {
     "name": "stdout",
     "output_type": "stream",
     "text": [
      "This data could be corrupted\n",
      " /home/abror/University/Deep Learning/dataset/test/alphatest-G/G/06/F/017/US0106001_30082001.xml\n",
      "This data could be corrupted\n",
      " /home/abror/University/Deep Learning/dataset/test/alphatest-A/A/61/K/007/AU0000791_11012001.xml\n"
     ]
    }
   ],
   "source": [
    "test_dataset_path = test_dataset_path[:10000]\n",
    "data_list = [[],[]]\n",
    "for entry_in in test_dataset_path:\n",
    "    try:\n",
    "        tree = ET.parse(entry_in)\n",
    "        base_root = tree.getroot()\n",
    "        for node in base_root:\n",
    "            if node.get('mc') is not None:\n",
    "                section_item = node.get('mc')\n",
    "                new_item = section_item[0]\n",
    "            for sub_node in node:\n",
    "                if(sub_node.tag == 'txt'):\n",
    "                    text = sub_node.text\n",
    "        \n",
    "        data_list[0].append(new_item)\n",
    "        data_list[1].append(text)\n",
    "                       \n",
    "    except:\n",
    "        print('This data could be corrupted\\n', entry_in)\n",
    "    "
   ]
  },
  {
   "cell_type": "code",
   "execution_count": 0,
   "metadata": {
    "colab": {},
    "colab_type": "code",
    "id": "kdnikAUxrSdz"
   },
   "outputs": [],
   "source": [
    "data_x = data_list[0]\n",
    "data_y = data_list[1]"
   ]
  },
  {
   "cell_type": "markdown",
   "metadata": {
    "colab_type": "text",
    "id": "1OtIP691rSd7"
   },
   "source": [
    "## Test data preprocessing\n",
    "We should proceed tokenization of text in test dataset before we handle evaluation of the model. Tokenization is equal to tokenization of test data."
   ]
  },
  {
   "cell_type": "code",
   "execution_count": 0,
   "metadata": {
    "colab": {},
    "colab_type": "code",
    "id": "p8z_U9torSd9",
    "outputId": "0b9fcdc8-f143-499c-f0e5-5d48bc3c5662"
   },
   "outputs": [
    {
     "name": "stdout",
     "output_type": "stream",
     "text": [
      "Tokenization of test data started..\n",
      "Tokenization done!\n"
     ]
    }
   ],
   "source": [
    "print('Tokenization of test data started..')\n",
    "sequences = tokenizer.texts_to_sequences(data_y)\n",
    "y_test = pad_sequences(sequences, maxlen=maxlen)\n",
    "x_test = np.asarray(data_x)\n",
    "print('Tokenization done!')"
   ]
  },
  {
   "cell_type": "markdown",
   "metadata": {
    "colab_type": "text",
    "id": "e6S1e5ferSeE"
   },
   "source": [
    "Printing the dimension of y_test data for information"
   ]
  },
  {
   "cell_type": "code",
   "execution_count": 0,
   "metadata": {
    "colab": {},
    "colab_type": "code",
    "id": "3wVVpl3jrSeG",
    "outputId": "56de53ad-757b-4b77-f403-dc8c9a06d591"
   },
   "outputs": [
    {
     "data": {
      "text/plain": [
       "(9998, 1000)"
      ]
     },
     "execution_count": 48,
     "metadata": {
      "tags": []
     },
     "output_type": "execute_result"
    }
   ],
   "source": [
    "df = pd.DataFrame(data_list).T\n",
    "y_test.shape"
   ]
  },
  {
   "cell_type": "code",
   "execution_count": 0,
   "metadata": {
    "colab": {},
    "colab_type": "code",
    "id": "PxDYuBfdrSeO"
   },
   "outputs": [],
   "source": [
    "model.load_weights('pre_trained_glove_model.h5')\n",
    "model.evaluate(x_test, y_test)"
   ]
  },
  {
   "cell_type": "markdown",
   "metadata": {
    "colab_type": "text",
    "id": "vkXM5UQnrSeW"
   },
   "source": [
    "# Part 3. Applying Domain specific embeddings and training the model\n",
    "### Parsing domain specific word-embedding file\n",
    "\n",
    "First, we parse vector extented file containing embedding vectors for 77276 words to build an index that maps words to their vector representation.\n"
   ]
  },
  {
   "cell_type": "code",
   "execution_count": 0,
   "metadata": {
    "colab": {},
    "colab_type": "code",
    "id": "5VZmud2brSeZ",
    "outputId": "1b5ed6e3-bdfa-46eb-ce93-478396b0dec0"
   },
   "outputs": [
    {
     "name": "stdout",
     "output_type": "stream",
     "text": [
      "Found word vectors in domain specific dataset:  77276\n"
     ]
    }
   ],
   "source": [
    "embeddings_index = {}\n",
    "with open(\"/Deep Learning/dataset/patent-100.vec/patent-100.vec\") as domain_file:\n",
    "    try:\n",
    "        for line in domain_file:\n",
    "            values = line.split()\n",
    "            word = values[0]\n",
    "            coefs = np.asarray(values[1:], dtype='float32')\n",
    "            embeddings_index[word] = coefs\n",
    "    except:\n",
    "        pass\n",
    "print('Found word vectors in domain specific dataset: ', len(embeddings_index))"
   ]
  },
  {
   "cell_type": "code",
   "execution_count": 0,
   "metadata": {
    "colab": {},
    "colab_type": "code",
    "id": "3ToBLT8RrSee",
    "outputId": "8f7eebe9-afc5-449f-ca06-25f48fe1a9ac"
   },
   "outputs": [
    {
     "name": "stdout",
     "output_type": "stream",
     "text": [
      "Preparing embedding_matrix..\n",
      "Embedding done!\n"
     ]
    }
   ],
   "source": [
    "embedding_dim = 100\n",
    "print('Preparing embedding_matrix..')\n",
    "embedding_matrix = np.zeros((max_words, embedding_dim))\n",
    "for word, i in word_index.items():\n",
    "    if i < max_words:\n",
    "        embedding_vector = embeddings_index.get(word)\n",
    "        if embedding_vector is not None:\n",
    "            embedding_matrix[i] = embedding_vector\n",
    "print('Embedding done!')"
   ]
  },
  {
   "cell_type": "markdown",
   "metadata": {
    "colab_type": "text",
    "id": "sk_N30ZfrSel"
   },
   "source": [
    "## Training the model (domain specific)\n",
    "We have already built model with Glove embeddings. Now, our task is to train the model with domain specific word embeddings and control learning process with the same parameters of the model. \n",
    "Basically, the difference can be noticed when number of epochs is being changed, while other parameters remain the same.\n",
    "### Weights \n",
    "For this subtask we save weights under domain_specific_model.h5 file"
   ]
  },
  {
   "cell_type": "code",
   "execution_count": 0,
   "metadata": {
    "colab": {},
    "colab_type": "code",
    "id": "b_fABKK4rSen",
    "outputId": "057daba5-f274-4dce-b84a-c3441037f890"
   },
   "outputs": [
    {
     "name": "stdout",
     "output_type": "stream",
     "text": [
      "Model: \"sequential_3\"\n",
      "_________________________________________________________________\n",
      "Layer (type)                 Output Shape              Param #   \n",
      "=================================================================\n",
      "embedding_3 (Embedding)      (None, 1000, 100)         1000000   \n",
      "_________________________________________________________________\n",
      "flatten_3 (Flatten)          (None, 100000)            0         \n",
      "_________________________________________________________________\n",
      "dense_3 (Dense)              (None, 32)                3200032   \n",
      "_________________________________________________________________\n",
      "prediction (Dense)           (None, 8)                 264       \n",
      "=================================================================\n",
      "Total params: 4,200,296\n",
      "Trainable params: 4,200,296\n",
      "Non-trainable params: 0\n",
      "_________________________________________________________________\n",
      "Train on 9000 samples, validate on 996 samples\n",
      "Epoch 1/11\n",
      "9000/9000 [==============================] - 4s 459us/step - loss: 2.6689 - acc: 0.2704 - val_loss: 1.9025 - val_acc: 0.2028\n",
      "Epoch 2/11\n",
      "9000/9000 [==============================] - 4s 491us/step - loss: 1.6825 - acc: 0.3827 - val_loss: 1.6729 - val_acc: 0.3916\n",
      "Epoch 3/11\n",
      "9000/9000 [==============================] - 4s 493us/step - loss: 1.5923 - acc: 0.3976 - val_loss: 1.7863 - val_acc: 0.3906\n",
      "Epoch 4/11\n",
      "9000/9000 [==============================] - 5s 525us/step - loss: 1.5167 - acc: 0.4061 - val_loss: 1.7050 - val_acc: 0.3946\n",
      "Epoch 5/11\n",
      "9000/9000 [==============================] - 5s 607us/step - loss: 1.4350 - acc: 0.4422 - val_loss: 1.8297 - val_acc: 0.4227\n",
      "Epoch 6/11\n",
      "9000/9000 [==============================] - 5s 543us/step - loss: 1.3625 - acc: 0.4676 - val_loss: 1.8557 - val_acc: 0.3564\n",
      "Epoch 7/11\n",
      "9000/9000 [==============================] - 5s 579us/step - loss: 1.2869 - acc: 0.4889 - val_loss: 1.6147 - val_acc: 0.4408\n",
      "Epoch 8/11\n",
      "9000/9000 [==============================] - 5s 502us/step - loss: 1.2418 - acc: 0.5001 - val_loss: 1.6841 - val_acc: 0.4016\n",
      "Epoch 9/11\n",
      "9000/9000 [==============================] - 5s 522us/step - loss: 1.1712 - acc: 0.5251 - val_loss: 1.8348 - val_acc: 0.4267\n",
      "Epoch 10/11\n",
      "9000/9000 [==============================] - 5s 591us/step - loss: 1.1195 - acc: 0.5471 - val_loss: 1.9996 - val_acc: 0.4287\n",
      "Epoch 11/11\n",
      "9000/9000 [==============================] - 4s 458us/step - loss: 1.0784 - acc: 0.5586 - val_loss: 1.7827 - val_acc: 0.4629\n"
     ]
    }
   ],
   "source": [
    "epoch = 11\n",
    "\n",
    "model = Sequential()\n",
    "model.add(Embedding(max_words, embedding_dim, input_length=maxlen))\n",
    "model.add(Flatten())\n",
    "model.add(Dense(32, activation='relu'))\n",
    "model.add(Dense(8, activation='softmax', name='prediction'))\n",
    "\n",
    "model.summary()\n",
    "model.layers[0].set_weights([embedding_matrix])\n",
    "model.layers[0].trainable = False\n",
    "\n",
    "encoder = LabelEncoder()\n",
    "encoder.fit(y_train)\n",
    "encoded_y = encoder.transform(y_train)\n",
    "cat_y = to_categorical(encoded_y)\n",
    "\n",
    "val_encoder = LabelEncoder()\n",
    "val_encoder.fit(y_val)\n",
    "val_encoded = val_encoder.transform(y_val)\n",
    "cat_val_y = to_categorical(val_encoded)\n",
    "\n",
    "model.compile(optimizer='rmsprop', loss='categorical_crossentropy', metrics=['acc'])\n",
    "history = model.fit(x_train, cat_y, epochs=epoch, batch_size=128, validation_data=(x_val, cat_val_y))\n",
    "model.save_weights('domain_specific_model.h5')"
   ]
  },
  {
   "cell_type": "markdown",
   "metadata": {
    "colab_type": "text",
    "id": "vdPfciJArSeu"
   },
   "source": [
    "## Learning results\n",
    "\n",
    "It can be seen from the numbers above that we approximately at 2-3% reach better results with domain specific word embeddings in comparance to learning with Glove.\n",
    "\n",
    "Results can be obtained from the diagrams below. \n",
    "#### P.S.: cases when the model gets overfitted cannot be excluded"
   ]
  },
  {
   "cell_type": "code",
   "execution_count": 0,
   "metadata": {
    "colab": {},
    "colab_type": "code",
    "id": "pPxl1eqirSev",
    "outputId": "2f4074de-fc0a-4a1f-e052-da5d2e3f2e77"
   },
   "outputs": [
    {
     "data": {
      "image/png": "[encoded data removed]",
      "text/plain": [
       "<Figure size 432x288 with 1 Axes>"
      ]
     },
     "metadata": {
      "needs_background": "light",
      "tags": []
     },
     "output_type": "display_data"
    },
    {
     "data": {
      "image/png": "[encoded data removed]",
      "text/plain": [
       "<Figure size 432x288 with 1 Axes>"
      ]
     },
     "metadata": {
      "needs_background": "light",
      "tags": []
     },
     "output_type": "display_data"
    }
   ],
   "source": [
    "%matplotlib inline\n",
    "\n",
    "\n",
    "acc = history.history['acc']\n",
    "val_acc = history.history['val_acc']\n",
    "loss = history.history['loss']\n",
    "val_loss = history.history['val_loss']\n",
    "epochs = range(1, len(acc) + 1)\n",
    "plt.plot(epochs, acc, 'bo', label='Training acc')\n",
    "plt.plot(epochs, val_acc, 'b', label='Validation acc')\n",
    "plt.title('Training and validation accuracy')\n",
    "plt.legend()\n",
    "plt.figure()\n",
    "plt.plot(epochs, loss, 'bo', label='Training loss')\n",
    "plt.plot(epochs, val_loss, 'b', label='Validation loss')\n",
    "plt.title('Training and validation loss')\n",
    "plt.legend()\n",
    "plt.show()"
   ]
  },
  {
   "cell_type": "code",
   "execution_count": 0,
   "metadata": {
    "colab": {},
    "colab_type": "code",
    "id": "iDkw2-VcrSe3",
    "outputId": "0713e634-29e0-490c-8c30-9467a4511a69"
   },
   "outputs": [
    {
     "name": "stdout",
     "output_type": "stream",
     "text": [
      "Start working with dataset!\n"
     ]
    }
   ],
   "source": [
    "test_dir = '/Deep Learning/dataset/test'\n",
    "if not os.path.isdir(test_dir):\n",
    "    print('Error! Database has not been found! Try to find dir again')\n",
    "    exit()\n",
    "else: \n",
    "    print('Start working with dataset!')\n"
   ]
  },
  {
   "cell_type": "code",
   "execution_count": 0,
   "metadata": {
    "colab": {},
    "colab_type": "code",
    "id": "kr2j0j50rSe_",
    "outputId": "bdd403f1-0e53-49b7-cbfc-b71af12a7e4b"
   },
   "outputs": [
    {
     "data": {
      "text/plain": [
       "(9998, 1000)"
      ]
     },
     "execution_count": 54,
     "metadata": {
      "tags": []
     },
     "output_type": "execute_result"
    }
   ],
   "source": [
    "df = pd.DataFrame(data_list).T\n",
    "y_test.shape"
   ]
  },
  {
   "cell_type": "code",
   "execution_count": 0,
   "metadata": {
    "colab": {},
    "colab_type": "code",
    "id": "5x69FhcvrSfG"
   },
   "outputs": [],
   "source": [
    "model.load_weights('domain_specific_model.h5')\n",
    "model.evaluate(x_test, y_test)"
   ]
  },
  {
   "cell_type": "markdown",
   "metadata": {
    "colab_type": "text",
    "id": "WfoxBcfrrSfO"
   },
   "source": [
    "# Part 4. Applying pre-trained language model to classification task by fine-tuning "
   ]
  },
  {
   "cell_type": "code",
   "execution_count": 1,
   "metadata": {
    "colab": {
     "base_uri": "https://localhost:8080/",
     "height": 295
    },
    "colab_type": "code",
    "id": "NuQ4aclarSfP",
    "outputId": "9551bded-f831-4964-8636-88af51408cae"
   },
   "outputs": [
    {
     "name": "stdout",
     "output_type": "stream",
     "text": [
      "  Building wheel for keras-bert (setup.py) ... \u001b[?25l\u001b[?25hdone\n",
      "  Building wheel for keras-rectified-adam (setup.py) ... \u001b[?25l\u001b[?25hdone\n",
      "  Building wheel for keras-transformer (setup.py) ... \u001b[?25l\u001b[?25hdone\n",
      "  Building wheel for keras-pos-embd (setup.py) ... \u001b[?25l\u001b[?25hdone\n",
      "  Building wheel for keras-multi-head (setup.py) ... \u001b[?25l\u001b[?25hdone\n",
      "  Building wheel for keras-layer-normalization (setup.py) ... \u001b[?25l\u001b[?25hdone\n",
      "  Building wheel for keras-position-wise-feed-forward (setup.py) ... \u001b[?25l\u001b[?25hdone\n",
      "  Building wheel for keras-embed-sim (setup.py) ... \u001b[?25l\u001b[?25hdone\n",
      "  Building wheel for keras-self-attention (setup.py) ... \u001b[?25l\u001b[?25hdone\n",
      "Archive:  uncased_L-12_H-768_A-12.zip\n",
      "   creating: uncased_L-12_H-768_A-12/\n",
      "  inflating: uncased_L-12_H-768_A-12/bert_model.ckpt.meta  \n",
      "  inflating: uncased_L-12_H-768_A-12/bert_model.ckpt.data-00000-of-00001  \n",
      "  inflating: uncased_L-12_H-768_A-12/vocab.txt  \n",
      "  inflating: uncased_L-12_H-768_A-12/bert_model.ckpt.index  \n",
      "  inflating: uncased_L-12_H-768_A-12/bert_config.json  \n"
     ]
    }
   ],
   "source": [
    "!pip install -q keras-bert keras-rectified-adam\n",
    "!wget -q https://storage.googleapis.com/bert_models/2018_10_18/uncased_L-12_H-768_A-12.zip\n",
    "!unzip -o uncased_L-12_H-768_A-12.zip"
   ]
  },
  {
   "cell_type": "code",
   "execution_count": 2,
   "metadata": {
    "colab": {
     "base_uri": "https://localhost:8080/",
     "height": 81
    },
    "colab_type": "code",
    "id": "nggyYzeYrqJp",
    "outputId": "0d891593-206a-45dc-9eaa-61f9012e105b"
   },
   "outputs": [
    {
     "data": {
      "text/html": [
       "<p style=\"color: red;\">\n",
       "The default version of TensorFlow in Colab will soon switch to TensorFlow 2.x.<br>\n",
       "We recommend you <a href=\"https://www.tensorflow.org/guide/migrate\" target=\"_blank\">upgrade</a> now \n",
       "or ensure your notebook will continue to use TensorFlow 1.x via the <code>%tensorflow_version 1.x</code> magic:\n",
       "<a href=\"https://colab.research.google.com/notebooks/tensorflow_version.ipynb\" target=\"_blank\">more info</a>.</p>\n"
      ],
      "text/plain": [
       "<IPython.core.display.HTML object>"
      ]
     },
     "metadata": {
      "tags": []
     },
     "output_type": "display_data"
    },
    {
     "name": "stderr",
     "output_type": "stream",
     "text": [
      "Using TensorFlow backend.\n"
     ]
    }
   ],
   "source": [
    "import tensorflow as tf\n",
    "from keras_radam import RAdam\n",
    "from tensorflow.keras import backend as K\n",
    "\n",
    "\n",
    "sess = tf.Session()\n",
    "\n",
    "SEQ_LEN = 128\n",
    "BATCH_SIZE = 128\n",
    "EPOCHS = 10\n",
    "LEARNING_RATE = 1e-4"
   ]
  },
  {
   "cell_type": "code",
   "execution_count": 3,
   "metadata": {
    "colab": {
     "base_uri": "https://localhost:8080/",
     "height": 34
    },
    "colab_type": "code",
    "id": "sOgn9q6Lru1x",
    "outputId": "15b24314-ce4f-417e-8f96-66606a1188ab"
   },
   "outputs": [
    {
     "name": "stdout",
     "output_type": "stream",
     "text": [
      "Success!\n"
     ]
    }
   ],
   "source": [
    "import os \n",
    "\n",
    "pretrained_path = 'uncased_L-12_H-768_A-12'\n",
    "config_path = os.path.join(pretrained_path, 'bert_config.json')\n",
    "checkpoint_path = os.path.join(pretrained_path, 'bert_model.ckpt')\n",
    "vocab_path = os.path.join(pretrained_path, 'vocab.txt')\n",
    "\n",
    "\n",
    "os.environ['TF_KERAS'] = '1'\n",
    "print('Success!')"
   ]
  },
  {
   "cell_type": "code",
   "execution_count": 0,
   "metadata": {
    "colab": {},
    "colab_type": "code",
    "id": "v3J2prDlr-Dj"
   },
   "outputs": [],
   "source": [
    "from keras_bert import get_custom_objects\n",
    "\n",
    "TPU_WORKER = 'grpc://' + os.environ['COLAB_TPU_ADDR']\n",
    "resolver = tf.contrib.cluster_resolver.TPUClusterResolver(TPU_WORKER)\n",
    "tf.contrib.distribute.initialize_tpu_system(resolver)\n",
    "strategy = tf.contrib.distribute.TPUStrategy(resolver)"
   ]
  },
  {
   "cell_type": "markdown",
   "metadata": {
    "colab_type": "text",
    "id": "GtzU3Q2MsG1E"
   },
   "source": [
    "Model loading"
   ]
  },
  {
   "cell_type": "code",
   "execution_count": 5,
   "metadata": {
    "colab": {
     "base_uri": "https://localhost:8080/",
     "height": 141
    },
    "colab_type": "code",
    "id": "f8P9D3Ylr_dC",
    "outputId": "4d674bf0-ad74-4528-8a25-4c1f8266e890"
   },
   "outputs": [
    {
     "name": "stdout",
     "output_type": "stream",
     "text": [
      "WARNING:tensorflow:From /usr/local/lib/python3.6/dist-packages/tensorflow_core/python/keras/initializers.py:119: calling RandomUniform.__init__ (from tensorflow.python.ops.init_ops) with dtype is deprecated and will be removed in a future version.\n",
      "Instructions for updating:\n",
      "Call initializer instance with the dtype argument instead of passing it to the constructor\n",
      "WARNING:tensorflow:From /usr/local/lib/python3.6/dist-packages/tensorflow_core/python/ops/resource_variable_ops.py:1630: calling BaseResourceVariable.__init__ (from tensorflow.python.ops.resource_variable_ops) with constraint is deprecated and will be removed in a future version.\n",
      "Instructions for updating:\n",
      "If using Keras pass *_constraint arguments to layers.\n"
     ]
    }
   ],
   "source": [
    "from keras_bert import load_trained_model_from_checkpoint\n",
    "\n",
    "model = load_trained_model_from_checkpoint(\n",
    "        config_path,\n",
    "        checkpoint_path,\n",
    "        training=True,\n",
    "        trainable=True,\n",
    "        seq_len=SEQ_LEN,\n",
    "    )"
   ]
  },
  {
   "cell_type": "code",
   "execution_count": 0,
   "metadata": {
    "colab": {},
    "colab_type": "code",
    "id": "hQCi2hOXsXNh"
   },
   "outputs": [],
   "source": [
    "import codecs\n",
    "from keras_bert import load_trained_model_from_checkpoint\n",
    "\n",
    "token_dict = {}\n",
    "with codecs.open(vocab_path, 'r', 'utf8') as reader:\n",
    "    for line in reader:\n",
    "        token = line.strip()\n",
    "        token_dict[token] = len(token_dict)"
   ]
  },
  {
   "cell_type": "markdown",
   "metadata": {
    "colab_type": "text",
    "id": "dpLryqQIsbAf"
   },
   "source": [
    "Dataset definition"
   ]
  },
  {
   "cell_type": "markdown",
   "metadata": {
    "colab_type": "text",
    "id": "6rVuzLWfshYD"
   },
   "source": [
    "We use the same dataset for this subtask also. Here we are operating with training dataset"
   ]
  },
  {
   "cell_type": "code",
   "execution_count": 0,
   "metadata": {
    "colab": {},
    "colab_type": "code",
    "id": "C_5oh-4TsfPq"
   },
   "outputs": [],
   "source": [
    "import numpy as np\n",
    "from tqdm import tqdm\n",
    "from keras_bert import Tokenizer\n",
    "import random\n",
    "import xml.etree.ElementTree as ET\n",
    "\n",
    "tokenizer = Tokenizer(token_dict)\n",
    "\n",
    "train_dir = '/Deep Learning/dataset/train'\n",
    "train_dataset_path = []\n",
    "for child_nodes, parent_nodes, files in os.walk(train_dir):\n",
    "    for inner_file in files:\n",
    "        path_file = child_nodes + os.sep + inner_file\n",
    "        if path_file.endswith(\".xml\"):\n",
    "            train_dataset_path.append(path_file)\n",
    "\n",
    "labels = []\n",
    "texts = []\n",
    "def load_data(train_dir):\n",
    "    global tokenizer\n",
    "    global train_dataset_path\n",
    "    train_dataset_path=train_dataset_path[:10000]\n",
    "    data_list = [[],[]]\n",
    "    global labels\n",
    "    global texts\n",
    "    for entry_in in train_dataset_path:\n",
    "        text = ' '\n",
    "        try:\n",
    "          tree = ET.parse(entry_in)\n",
    "          base_root = tree.getroot()\n",
    "          for node in base_root:\n",
    "              if node.get('mc') is not None:\n",
    "                  section_item = node.get('mc')\n",
    "                  new_item = section_item[0]\n",
    "              for sub_node in node:\n",
    "                  if(sub_node.tag == 'txt'):\n",
    "                      text += sub_node.text + ' '\n",
    "          \n",
    "          labels.append(new_item)\n",
    "          texts.append(text)\n",
    "          ids, segments = tokenizer.encode(texts, max_len=SEQ_LEN)\n",
    "          print(ids)\n",
    "          labels.append(ids)\n",
    "        except:\n",
    "            print('This data could be corrupted\\n', entry_in)\n",
    "    items = list(zip(labels, texts))\n",
    "    random.shuffle(items)\n",
    "    # labels, texts = zip(*items)\n",
    "    labels = np.array(labels)\n",
    "    mod = labels.shape[0] % BATCH_SIZE\n",
    "    if mod > 0:\n",
    "        labels, texts = labels[:-mod], texts[:-mod]\n",
    "    return [labels, np.zeros_like(labels)], np.array(texts)\n",
    "  \n",
    "train_path = os.path.join(os.path.dirname(train_dir), 'train')\n",
    "train_x, train_y = load_data(train_path)"
   ]
  },
  {
   "cell_type": "markdown",
   "metadata": {
    "colab_type": "text",
    "id": "piJN_npPsuXj"
   },
   "source": [
    "Evaluating on wipo alpha test dataset the learning results"
   ]
  },
  {
   "cell_type": "code",
   "execution_count": 0,
   "metadata": {
    "colab": {},
    "colab_type": "code",
    "id": "nuA11uU8sq7f"
   },
   "outputs": [],
   "source": [
    "tokenizer = Tokenizer(token_dict)\n",
    "\n",
    "test_dir = '/Deep Learning/dataset/test'\n",
    "labels = []\n",
    "texts = []\n",
    "for child_nodes, parent_nodes, files in os.walk(test_dir):\n",
    "    for inner_file in files:\n",
    "        path_file = child_nodes + os.sep + inner_file\n",
    "        if path_file.endswith(\".xml\"):\n",
    "            test_dataset_path.append(path_file)\n",
    "random.shuffle(test_dataset_path)\n",
    "\n",
    "def load_data(test_dir):\n",
    "    global tokenizer\n",
    "    test_dataset_path = test_dataset_path[:10000]\n",
    "    data_list = [[],[]]\n",
    "    for entry_in in test_dataset_path:\n",
    "        text = ' '\n",
    "        try:\n",
    "          tree = ET.parse(entry_in)\n",
    "          base_root = tree.getroot()\n",
    "          for node in base_root:\n",
    "              if node.get('mc') is not None:\n",
    "                  section_item = node.get('mc')\n",
    "                  new_item = section_item[0]\n",
    "              for sub_node in node:\n",
    "                  if(sub_node.tag == 'txt'):\n",
    "                      text += sub_node.text + ' '\n",
    "          \n",
    "          data_list[0].append(new_item)\n",
    "          data_list[1].append(text)\n",
    "                      \n",
    "        except:\n",
    "            print('This data could be corrupted\\n', entry_in)\n",
    "\n",
    "    return data_list\n",
    "\n",
    "test_path = os.path.join(os.path.dirname(test_dir), 'test')\n",
    "test_x, test_y = load_data(test_path)"
   ]
  },
  {
   "cell_type": "markdown",
   "metadata": {
    "colab_type": "text",
    "id": "_L_J1O_ys4oI"
   },
   "source": [
    "Building the model"
   ]
  },
  {
   "cell_type": "code",
   "execution_count": 0,
   "metadata": {
    "colab": {},
    "colab_type": "code",
    "id": "txkBCixfsvAe"
   },
   "outputs": [],
   "source": [
    "from tensorflow.python import keras\n",
    "from keras_radam import RAdam\n",
    "\n",
    "with strategy.scope():\n",
    "    inputs = model.inputs[:2]\n",
    "    dense = model.get_layer('NSP-Dense').output\n",
    "    outputs = keras.layers.Dense(units=8, activation='softmax')(dense)\n",
    "    \n",
    "    model = keras.models.Model(inputs, outputs)\n",
    "    model.compile(\n",
    "        RAdam(lr=LEARNING_RATE),\n",
    "        loss='sparse_categorical_crossentropy',\n",
    "        metrics=['sparse_categorical_accuracy'],\n",
    "    )"
   ]
  },
  {
   "cell_type": "markdown",
   "metadata": {
    "colab_type": "text",
    "id": "DieHuiaCtGiM"
   },
   "source": [
    "Initializing variables"
   ]
  },
  {
   "cell_type": "code",
   "execution_count": 0,
   "metadata": {
    "colab": {},
    "colab_type": "code",
    "id": "5SWjN-wStOLR"
   },
   "outputs": [],
   "source": [
    "import tensorflow as tf\n",
    "import tensorflow.keras.backend as K\n",
    "\n",
    "sess = K.get_session()\n",
    "uninitialized_variables = set([i.decode('ascii') for i in sess.run(tf.report_uninitialized_variables())])\n",
    "init_op = tf.variables_initializer(\n",
    "    [v for v in tf.global_variables() if v.name.split(':')[0] in uninitialized_variables]\n",
    ")\n",
    "sess.run(init_op)"
   ]
  },
  {
   "cell_type": "markdown",
   "metadata": {
    "colab_type": "text",
    "id": "kD89yvogtRLE"
   },
   "source": [
    "Training the model\n",
    "\n",
    "We process with the same hyperparameters as we mentioned above"
   ]
  },
  {
   "cell_type": "code",
   "execution_count": 0,
   "metadata": {
    "colab": {},
    "colab_type": "code",
    "id": "CmmAwa_stUuX"
   },
   "outputs": [],
   "source": [
    "model.fit(\n",
    "    train_x,\n",
    "    train_y,\n",
    "    epochs=EPOCHS,\n",
    "    batch_size=BATCH_SIZE,\n",
    ")"
   ]
  },
  {
   "cell_type": "markdown",
   "metadata": {
    "colab_type": "text",
    "id": "lHvdCBs1tYrk"
   },
   "source": [
    "Making predictions for test dataset"
   ]
  },
  {
   "cell_type": "code",
   "execution_count": 0,
   "metadata": {
    "colab": {},
    "colab_type": "code",
    "id": "v0z92SbztaoA"
   },
   "outputs": [],
   "source": [
    "predicts = model.predict(test_x, verbose=True).argmax(axis=-1)"
   ]
  },
  {
   "cell_type": "markdown",
   "metadata": {
    "colab_type": "text",
    "id": "bVzcYScAtdQy"
   },
   "source": [
    "Calculating and printing accuracy"
   ]
  },
  {
   "cell_type": "code",
   "execution_count": 0,
   "metadata": {
    "colab": {},
    "colab_type": "code",
    "id": "zsHQVchntfSZ"
   },
   "outputs": [],
   "source": [
    "print(np.sum(test_y == predicts) / test_y.shape[0])"
   ]
  },
  {
   "cell_type": "markdown",
   "metadata": {
    "colab_type": "text",
    "id": "8uOaLPlhufkh"
   },
   "source": [
    "Summary"
   ]
  },
  {
   "cell_type": "markdown",
   "metadata": {
    "colab_type": "text",
    "id": "MHNRW4kiuoGI"
   },
   "source": [
    "In this notebook we have demonstrated classification of patents of Wipo Alpha Dataset. The whole task was divided into several subtasks and explanation for each step was provided.\n",
    "\n",
    "Summing the complete work up, we can assume that reaching different accuracy can only be reached if various appropriate methods/techniques are taken into consideration (e.g. Glove/domain specific word embeddings/Pre-trained models)"
   ]
  }
 ],
 "metadata": {
  "colab": {
   "collapsed_sections": [
    "O5qDc7g_rSc6",
    "PnJjFrUXrSdE",
    "s1AAfrRnrSdP",
    "-xVLJwvLrSdZ"
   ],
   "name": "102821_DLP.ipynb",
   "provenance": []
  },
  "kernelspec": {
   "display_name": "PyCharm (download)",
   "language": "python",
   "name": "pycharm-c73b45a1"
  },
  "language_info": {
   "codemirror_mode": {
    "name": "ipython",
    "version": 3
   },
   "file_extension": ".py",
   "mimetype": "text/x-python",
   "name": "python",
   "nbconvert_exporter": "python",
   "pygments_lexer": "ipython3",
   "version": "3.7.3"
  },
  "pycharm": {
   "stem_cell": {
    "cell_type": "raw",
    "metadata": {
     "collapsed": false
    },
    "source": []
   }
  }
 },
 "nbformat": 4,
 "nbformat_minor": 1
}
